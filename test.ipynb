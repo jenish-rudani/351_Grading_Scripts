{
 "cells": [
  {
   "cell_type": "code",
   "execution_count": null,
   "metadata": {},
   "outputs": [],
   "source": [
    "\n",
    "\n",
    "# Assign our input, output and error variables to\n",
    "# to a command we will be issuing to the remote\n",
    "# system\n",
    "stdin, stdout, stderr = client.exec_command(\n",
    "    'find ~/A2_Script/submissions -name \"g-*\"'\n",
    ")\n",
    "\n",
    "count = 0\n",
    "# We iterate over stdout\n",
    "for line in stdout:\n",
    "  count += 1\n",
    "  print('{}'.format(line.strip('\\n')))\n",
    "print(count)\n",
    "# And finally we close the connection to our client\n",
    "client.close()\n"
   ]
  },
  {
   "cell_type": "code",
   "execution_count": 20,
   "metadata": {},
   "outputs": [
    {
     "name": "stdout",
     "output_type": "stream",
     "text": [
      "/home/\n",
      "total 96\n",
      "4 drwxr-xr-x 15 debian debian 4096 May  8 06:10 .\n",
      "4 drwxr-xr-x  3 root   root   4096 Jan 28 14:53 ..\n",
      "4 drwxr-xr-x  3 debian debian 4096 May  8 06:16 A2_Script\n",
      "4 drwxr-xr-x  3 debian debian 4096 Nov  2  2022 as2\n",
      "4 drwxr-xr-x  2 debian debian 4096 May  8 06:14 as2_hw_demo\n",
      "4 -rw-------  1 debian debian  948 May  8 06:44 .bash_history\n",
      "4 -rw-r--r--  1 debian debian  220 May 15  2017 .bash_logout\n",
      "4 -rw-r--r--  1 debian debian 3564 May  8 06:16 .bashrc\n",
      "4 drwxr-xr-x  2 debian debian 4096 Jan 28 14:53 bin\n",
      "4 drwxr-xr-x  3 debian debian 4096 May  8 06:09 cmpt433\n",
      "4 drwxr-xr-x  4 debian debian 4096 Jan 28 14:53 .config\n",
      "4 drwxr-xr-x  3 debian debian 4096 May  8 06:10 ensc351\n",
      "4 drwxr-xr-x  2 debian debian 4096 May  8 06:13 g-a2\n",
      "4 -rw-r--r--  1 root   root      7 Jan 28 14:55 .gitconfig\n",
      "4 drwxr-xr-x  2 debian debian 4096 Nov  7  2022 LightSampler\n",
      "4 drwxr-xr-x  2 debian debian 4096 May  8 06:10 .nano\n",
      "4 -rw-r--r--  1 debian debian  675 May 15  2017 .profile\n",
      "4 -rw-r--r--  1 debian debian   66 May  8 06:22 .selected_editor\n",
      "4 drwxr-xr-x  2 debian debian 4096 May  8 06:27 sol\n",
      "4 drwxr-xr-x  2 debian debian 4096 May  8 06:10 .ssh\n",
      "4 -rwxr-xr-x  1 debian debian   76 May  8 06:25 temp.sh\n",
      "4 drwxr-xr-x  5 debian debian 4096 May  8 06:11 .vscode-server\n",
      "4 -rw-r--r--  1 root   root    208 Jan 28 14:55 .wget-hsts\n",
      "4 -rw-r--r--  1 debian debian   64 Jan 28 14:53 .xsessionrc\n",
      "\n"
     ]
    }
   ],
   "source": [
    "import time\n",
    "import paramiko\n",
    "import base64\n",
    "import json\n",
    "import os\n",
    "import subprocess\n",
    "import traceback\n",
    "import sys\n",
    "import signal\n",
    "\n",
    "ROOT_PATH = os.getcwd()\n",
    "\n",
    "beagleBoneSSHClient = None\n",
    "a = os.path.expanduser(\"/home/\")\n",
    "\n",
    "print(a)\n",
    "\n",
    "\n",
    "def connectToBeagleBone():\n",
    "  global beagleBoneSSHClient\n",
    "  ###################################! Connecting Through SSH !###################################\n",
    "  key = paramiko.RSAKey.from_private_key_file(pathToRSAKey)\n",
    "\n",
    "  beagleBoneSSHClient = paramiko.SSHClient()\n",
    "\n",
    "  host_keys = beagleBoneSSHClient.get_host_keys()\n",
    "  host_keys.add('ssh.example.com', 'ssh-rsa', key)\n",
    "\n",
    "\n",
    "  beagleBoneSSHClient.set_missing_host_key_policy(paramiko.AutoAddPolicy())\n",
    "  beagleBoneSSHClient.connect(hostname='192.168.7.2', username='debian', password='temppwd')\n",
    "\n",
    "  \n",
    "def runThisCommandOnBeagleBone(mySSHClient, command):\n",
    "    # Returns stdin, stdout, stderr\n",
    "  return mySSHClient.exec_command(command)\n",
    "connectToBeagleBone()\n",
    "\n",
    "test = \"ls -als\"\n",
    "stdin, stdout, stderr = runThisCommandOnBeagleBone(beagleBoneSSHClient, test)\n",
    "stdout = stdout.read()\n",
    "testCommandOutput = stdout.decode('utf-8')\n",
    "print(testCommandOutput)\n"
   ]
  },
  {
   "cell_type": "code",
   "execution_count": null,
   "metadata": {},
   "outputs": [],
   "source": []
  }
 ],
 "metadata": {
  "kernelspec": {
   "display_name": "Python 3.8.10 64-bit",
   "language": "python",
   "name": "python3"
  },
  "language_info": {
   "codemirror_mode": {
    "name": "ipython",
    "version": 3
   },
   "file_extension": ".py",
   "mimetype": "text/x-python",
   "name": "python",
   "nbconvert_exporter": "python",
   "pygments_lexer": "ipython3",
   "version": "3.8.10"
  },
  "orig_nbformat": 4,
  "vscode": {
   "interpreter": {
    "hash": "916dbcbb3f70747c44a77c7bcd40155683ae19c65e1c03b4aa3499c5328201f1"
   }
  }
 },
 "nbformat": 4,
 "nbformat_minor": 2
}
