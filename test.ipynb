{
 "cells": [
  {
   "cell_type": "code",
   "execution_count": 7,
   "metadata": {},
   "outputs": [
    {
     "name": "stdout",
     "output_type": "stream",
     "text": [
      "/home/debian/A2_Script/submissions/g-carleton-lagerwerf\n",
      "/home/debian/A2_Script/submissions/g-as2_icruiksh\n",
      "/home/debian/A2_Script/submissions/g-chentingmao_assignment2\n",
      "/home/debian/A2_Script/submissions/g-aneetk\n",
      "/home/debian/A2_Script/submissions/g-assignment2-submission-ng\n",
      "/home/debian/A2_Script/submissions/g-aneel-and-tejash\n",
      "/home/debian/A2_Script/submissions/g-assignment_submission_jaspreet\n",
      "/home/debian/A2_Script/submissions/g-a2_jja100_cya110\n",
      "/home/debian/A2_Script/submissions/g-assignments\n",
      "/home/debian/A2_Script/submissions/g-aaadprat_aka139\n",
      "/home/debian/A2_Script/submissions/g-as2-nafrin\n",
      "/home/debian/A2_Script/submissions/g-assignment-2-18\n",
      "/home/debian/A2_Script/submissions/g-aspeers_wshami\n",
      "/home/debian/A2_Script/submissions/g-bla135-and-ssa365\n",
      "/home/debian/A2_Script/submissions/g-daniel-kim\n",
      "/home/debian/A2_Script/submissions/g-assignments-bobby\n",
      "/home/debian/A2_Script/submissions/g-assignment2_group\n",
      "/home/debian/A2_Script/submissions/g-a2\n",
      "/home/debian/A2_Script/submissions/g-bowie\n",
      "/home/debian/A2_Script/submissions/g-assignment2_jsg25\n",
      "/home/debian/A2_Script/submissions/g-as2_amrit_gavin\n",
      "/home/debian/A2_Script/submissions/g-assignment1\n",
      "/home/debian/A2_Script/submissions/g-assignment2\n",
      "/home/debian/A2_Script/submissions/g-assignments_mduclos_tnookut\n",
      "/home/debian/A2_Script/submissions/g-assignment-2\n",
      "/home/debian/A2_Script/submissions/g-assign-2\n",
      "/home/debian/A2_Script/submissions/g-assignment-2-squad\n",
      "/home/debian/A2_Script/submissions/g-assignment-group\n",
      "/home/debian/A2_Script/submissions/g-assignment2_jpalvara_ruoyiz\n",
      "/home/debian/A2_Script/submissions/g-as2_athapa\n",
      "/home/debian/A2_Script/submissions/g-as2\n",
      "31\n"
     ]
    }
   ],
   "source": [
    "\n",
    "\n",
    "# Assign our input, output and error variables to\n",
    "# to a command we will be issuing to the remote\n",
    "# system\n",
    "stdin, stdout, stderr = client.exec_command(\n",
    "    'find ~/A2_Script/submissions -name \"g-*\"'\n",
    ")\n",
    "\n",
    "count = 0\n",
    "# We iterate over stdout\n",
    "for line in stdout:\n",
    "  count += 1\n",
    "  print('{}'.format(line.strip('\\n')))\n",
    "print(count)\n",
    "# And finally we close the connection to our client\n",
    "client.close()\n"
   ]
  }
 ],
 "metadata": {
  "kernelspec": {
   "display_name": "Python 3.8.10 64-bit",
   "language": "python",
   "name": "python3"
  },
  "language_info": {
   "codemirror_mode": {
    "name": "ipython",
    "version": 3
   },
   "file_extension": ".py",
   "mimetype": "text/x-python",
   "name": "python",
   "nbconvert_exporter": "python",
   "pygments_lexer": "ipython3",
   "version": "3.8.10"
  },
  "orig_nbformat": 4,
  "vscode": {
   "interpreter": {
    "hash": "916dbcbb3f70747c44a77c7bcd40155683ae19c65e1c03b4aa3499c5328201f1"
   }
  }
 },
 "nbformat": 4,
 "nbformat_minor": 2
}
