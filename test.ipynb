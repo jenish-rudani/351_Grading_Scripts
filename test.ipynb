{
 "cells": [
  {
   "cell_type": "code",
   "execution_count": 6,
   "metadata": {},
   "outputs": [
    {
     "name": "stdout",
     "output_type": "stream",
     "text": [
      "/Users/atom/Documents/School/TA/ENSC351/a1\n",
      "x as1/\n",
      "x as1/Makefile\n",
      "x as1/hello\n",
      "x as1/hello.c\n",
      "x as1/as1-helloWorld.tar.gz\n",
      "\n",
      "/Users/atom/Documents/School/TA/ENSC351/a1/submissions/myGrading/aspeers/as1\n",
      "arm-linux-gnueabihf-gcc -Wall -g -std=c99 -D _POSIX_C_SOURCE=200809L hello.c -o hello\n",
      "make: arm-linux-gnueabihf-gcc: No such file or directory\n",
      "make: *** [all] Error 1\n",
      "\n",
      "/Users/atom/Documents/School/TA/ENSC351/a1\n"
     ]
    }
   ],
   "source": [
    "import subprocess\n",
    "import os\n",
    "\n",
    "currentDir = (os.getcwd())\n",
    "print(currentDir)\n",
    "\n",
    "os.chdir('./submissions/myGrading/aspeers')\n",
    "cmd = \"tar -xvf as1-helloWorld.tar.gz\"\n",
    "output = subprocess.Popen(cmd,shell=True, stdout=subprocess.PIPE,stderr=subprocess.STDOUT).stdout.read()\n",
    "extractedFolder = output.decode('utf-8').split()[1]\n",
    "print(output.decode('utf-8'))\n",
    "\n",
    "os.chdir(extractedFolder)\n",
    "print(os.getcwd())\n",
    "\n",
    "output = subprocess.Popen(\"make\",shell=True, stdout=subprocess.PIPE,stderr=subprocess.STDOUT).stdout.read()\n",
    "print(output.decode('utf-8'))\n",
    "\n",
    "os.chdir(currentDir)\n",
    "print(os.getcwd())"
   ]
  },
  {
   "cell_type": "code",
   "execution_count": 8,
   "metadata": {},
   "outputs": [],
   "source": [
    "import json\n",
    "\n",
    "\n",
    "a = {'marks': [{'userid': 'hlebumfa', 'hello': {'mark': 18, 'comment': \"[+5] | [+3] | [+5] | Issues in User Response | Issues in Summary | Didn;t repeat | Didn't Exit | [+5]\"}}, {'userid': 'hssekhon', 'hello': {'mark': 13, 'comment': \"hello not in myApps | [+3] | [+5] | Issues in User Response | Issues in Summary | Didn;t repeat | Didn't Exit | [+5]\"}}, {'userid': 'jcz3', 'hello': {'mark': 18, 'comment': \"[+5] | [+3] | [+5] | Issues in User Response | Issues in Summary | Didn;t repeat | Didn't Exit | [+5]\"}}, {'userid': 'jkshergi', 'hello': {'mark': 18, 'comment': \"[+5] | [+3] | [+5] | Issues in User Response | Issues in Summary | Didn;t repeat | Didn't Exit | [+5]\"}}, {'userid': 'jmateo', 'hello': {'mark': 43, 'comment': 'hello not in myApps | [+3] | [+5] | [+10] | [+5] | [+5] | [+10] | [+5]'}}, {'userid': 'jmerkl', 'hello': {'mark': 48, 'comment': '[+5] | [+3] | [+5] | [+10] | [+5] | [+5] | [+10] | [+5]'}}, {'userid': 'jmix', 'hello': {'mark': 18, 'comment': \"[+5] | [+3] | [+5] | Issues in User Response | Issues in Summary | Didn;t repeat | Didn't Exit | [+5]\"}}, {'userid': 'jml44', 'hello': {'mark': 13, 'comment': \"[+5] | [+3] | LED0 didn't lightup | Issues in User Response | Issues in Summary | Didn;t repeat | Didn't Exit | [+5]\"}}, {'userid': 'jvanloo', 'hello': {'mark': 13, 'comment': \"hello not in myApps | [+3] | [+5] | Issues in User Response | Issues in Summary | Didn;t repeat | Didn't Exit | [+5]\"}}, {'userid': 'kmokaya', 'hello': {'mark': 18, 'comment': \"[+5] | [+3] | [+5] | Issues in User Response | Issues in Summary | Didn;t repeat | Didn't Exit | [+5]\"}}, {'userid': 'ksa170', 'hello': {'mark': 18, 'comment': \"[+5] | [+3] | [+5] | Issues in User Response | Issues in Summary | Didn;t repeat | Didn't Exit | [+5]\"}}, {'userid': 'ktoering', 'hello': {'mark': 13, 'comment': \"hello not in myApps | [+3] | [+5] | Issues in User Response | Issues in Summary | Didn;t repeat | Didn't Exit | [+5]\"}}, {'userid': 'liyuyul', 'hello': {'mark': 5, 'comment': \"hello not in myApps | No welcome Message | LED0 didn't lightup | Issues in User Response | Issues in Summary | Didn;t repeat | Didn't Exit | [+5]\"}}, {'userid': 'llagerwe', 'hello': {'mark': 18, 'comment': \"[+5] | [+3] | [+5] | Issues in User Response | Issues in Summary | Didn;t repeat | Didn't Exit | [+5]\"}}, {'userid': 'mmsaki', 'hello': {'mark': 5, 'comment': \"hello not in myApps | No welcome Message | LED0 didn't lightup | Issues in User Response | Issues in Summary | Didn;t repeat | Didn't Exit | [+5]\"}}, {'userid': 'nss11', 'hello': {'mark': 18, 'comment': \"[+5] | [+3] | [+5] | Issues in User Response | Issues in Summary | Didn;t repeat | Didn't Exit | [+5]\"}}, {'userid': 'rmakita', 'hello': {'mark': 48, 'comment': '[+5] | [+3] | [+5] | [+10] | [+5] | [+5] | [+10] | [+5]'}}, {'userid': 'smoradkh', 'hello': {'mark': 18, 'comment': \"[+5] | [+3] | [+5] | Issues in User Response | Issues in Summary | Didn;t repeat | Didn't Exit | [+5]\"}}, {'userid': 'sraisudd', 'hello': {'mark': 48, 'comment': '[+5] | [+3] | [+5] | [+10] | [+5] | [+5] | [+10] | [+5]'}}, {'userid': 'ssa365', 'hello': {'mark': 48, 'comment': '[+5] | [+3] | [+5] | [+10] | [+5] | [+5] | [+10] | [+5]'}}, {'userid': 'sukhal', 'hello': {'mark': 48, 'comment': '[+5] | [+3] | [+5] | [+10] | [+5] | [+5] | [+10] | [+5]'}}, {'userid': 'swa263', 'hello': {'mark': 48, 'comment': '[+5] | [+3] | [+5] | [+10] | [+5] | [+5] | [+10] | [+5]'}}, {'userid': 'tla152', 'hello': {'mark': 38, 'comment': \"[+5] | [+3] | [+5] | [+10] | [+5] | [+5] | Didn't Exit | [+5]\"}}, {'userid': 'tpa35', 'hello': {'mark': 43, 'comment': 'hello not in myApps | [+3] | [+5] | [+10] | [+5] | [+5] | [+10] | [+5]'}}, {'userid': 'wshami', 'hello': {'mark': 5, 'comment': \"hello not in myApps | No welcome Message | LED0 didn't lightup | Issues in User Response | Issues in Summary | Didn;t repeat | Didn't Exit | [+5]\"}}, {'userid': 'zosmond', 'hello': {'mark': 18, 'comment': \"[+5] | [+3] | [+5] | Issues in User Response | Issues in Summary | Didn;t repeat | Didn't Exit | [+5]\"}}]}\n",
    "with open(\"hello2.json\", \"w\") as outfile:\n",
    "        outfile.write(json.dumps(a,indent=4))\n"
   ]
  },
  {
   "cell_type": "code",
   "execution_count": 15,
   "metadata": {},
   "outputs": [
    {
     "name": "stdout",
     "output_type": "stream",
     "text": [
      "establish-communication.json : 44\n",
      "hello.json : 44\n",
      "nfs-and-custom-login-message.json : 44\n",
      "{'marks': [{'userid': 'akopylov', 'establish-communication': {'mark': 5, 'comment': 'Covers all/most'}, 'nfs-and-custom-login-message': {'mark': 12, 'comment': ''}, 'hello': {'mark': 48, 'comment': '[+5] | [+3] | [+5] | [+10] | [+5] | [+5] | [+10] | [+5]'}, 'good-quality-code': {'mark': 0.0, 'comment': ''}}, {'userid': 'alons', 'establish-communication': {'mark': 5, 'comment': 'Covers all/most'}, 'nfs-and-custom-login-message': {'mark': 12, 'comment': ''}, 'hello': {'mark': 43, 'comment': 'hello not in myApps | [+3] | [+5] | [+10] | [+5] | [+5] | [+10] | [+5]'}, 'good-quality-code': {'mark': 0.0, 'comment': ''}}, {'userid': 'amontede', 'establish-communication': {'mark': 5, 'comment': 'Covers all/most'}, 'nfs-and-custom-login-message': {'mark': 12, 'comment': ''}, 'hello': {'mark': 38, 'comment': \"[+5] | [+3] | [+5] | [+10] | [+5] | [+5] | Didn't Exit | [+5]\"}, 'good-quality-code': {'mark': 0.0, 'comment': ''}}, {'userid': 'asm18', 'establish-communication': {'mark': 5, 'comment': 'Covers all/most'}, 'nfs-and-custom-login-message': {'mark': 12, 'comment': ''}, 'hello': {'mark': 48, 'comment': '[+5] | [+3] | [+5] | [+10] | [+5] | [+5] | [+10] | [+5]'}, 'good-quality-code': {'mark': 0.0, 'comment': ''}}, {'userid': 'aspeers', 'establish-communication': {'mark': 5, 'comment': 'Covers all/most'}, 'nfs-and-custom-login-message': {'mark': 12, 'comment': ''}, 'hello': {'mark': 48, 'comment': '[+5] | [+3] | [+5] | [+10] | [+5] | [+5] | [+10] | [+5]'}, 'good-quality-code': {'mark': 0.0, 'comment': ''}}, {'userid': 'athapa', 'establish-communication': {'mark': 5, 'comment': 'Covers all/most'}, 'nfs-and-custom-login-message': {'mark': 8, 'comment': ''}, 'hello': {'mark': 48, 'comment': '[+5] | [+3] | [+5] | [+10] | [+5] | [+5] | [+10] | [+5]'}, 'good-quality-code': {'mark': 0.0, 'comment': ''}}, {'userid': 'bla135', 'establish-communication': {'mark': 5, 'comment': 'Covers all/most'}, 'nfs-and-custom-login-message': {'mark': 12, 'comment': ''}, 'hello': {'mark': 48, 'comment': '[+5] | [+3] | [+5] | [+10] | [+5] | [+5] | [+10] | [+5]'}, 'good-quality-code': {'mark': 0.0, 'comment': ''}}, {'userid': 'bmckeen', 'establish-communication': {'mark': 5, 'comment': 'Covers all/most'}, 'nfs-and-custom-login-message': {'mark': 0.0, 'comment': 'EXCEPTION | FILE READING ERROR | PLEASE UPLOAD FILE IN TXT'}, 'hello': {'mark': 0, 'comment': \"hello not in myApps | No welcome Message | LED0 didn't lightup | Issues in User Response | Issues in Summary | Didn;t repeat | Didn't Exit\"}, 'good-quality-code': {'mark': 0.0, 'comment': ''}}, {'userid': 'cma107', 'establish-communication': {'mark': 4, 'comment': 'missing commands'}, 'nfs-and-custom-login-message': {'mark': 12, 'comment': ''}, 'hello': {'mark': 38, 'comment': \"[+5] | [+3] | [+5] | [+10] | [+5] | [+5] | Didn't Exit | [+5]\"}, 'good-quality-code': {'mark': 0.0, 'comment': ''}}, {'userid': 'cwa230', 'establish-communication': {'mark': 5, 'comment': 'Covers all/most'}, 'nfs-and-custom-login-message': {'mark': 12, 'comment': ''}, 'hello': {'mark': 48, 'comment': '[+5] | [+3] | [+5] | [+10] | [+5] | [+5] | [+10] | [+5]'}, 'good-quality-code': {'mark': 0.0, 'comment': ''}}, {'userid': 'cya110', 'establish-communication': {'mark': 5, 'comment': 'Covers all/most'}, 'nfs-and-custom-login-message': {'mark': 12, 'comment': ''}, 'hello': {'mark': 48, 'comment': '[+5] | [+3] | [+5] | [+10] | [+5] | [+5] | [+10] | [+5]'}, 'good-quality-code': {'mark': 0.0, 'comment': ''}}, {'userid': 'divyams', 'establish-communication': {'mark': 5, 'comment': 'Covers all/most'}, 'nfs-and-custom-login-message': {'mark': 12, 'comment': ''}, 'hello': {'mark': 48, 'comment': '[+5] | [+3] | [+5] | [+10] | [+5] | [+5] | [+10] | [+5]'}, 'good-quality-code': {'mark': 0.0, 'comment': ''}}, {'userid': 'drashid', 'establish-communication': {'mark': 5, 'comment': 'Covers all/most'}, 'nfs-and-custom-login-message': {'mark': 12.0, 'comment': ''}, 'hello': {'mark': 48, 'comment': '[+5] | [+3] | [+5] | [+10] | [+5] | [+5] | [+10] | [+5]'}, 'good-quality-code': {'mark': 0.0, 'comment': ''}}, {'userid': 'drowsell', 'establish-communication': {'mark': 5, 'comment': 'Covers all/most'}, 'nfs-and-custom-login-message': {'mark': 12, 'comment': ''}, 'hello': {'mark': 41, 'comment': '[+5] | [+3] | [+5] | [+10] | [+5] | [+5] | [+3] [-7] no busy wait | [+5] '}, 'good-quality-code': {'mark': 0.0, 'comment': ''}}, {'userid': 'dss17', 'establish-communication': {'mark': 5, 'comment': 'Covers all/most'}, 'nfs-and-custom-login-message': {'mark': 12.0, 'comment': ''}, 'hello': {'mark': 48, 'comment': '[+5] | [+3] | [+5] | [+10] | [+5] | [+5] | [+10] | [+5]'}, 'good-quality-code': {'mark': 0.0, 'comment': ''}}, {'userid': 'dumpherv', 'establish-communication': {'mark': 5, 'comment': 'Covers all/most'}, 'nfs-and-custom-login-message': {'mark': 10.0, 'comment': ''}, 'hello': {'mark': 38, 'comment': '[+5] | [+3] | [+5] | Issues in User Response no busy wait | [+5] | [+5] | [+10] | [+5]'}, 'good-quality-code': {'mark': 0.0, 'comment': ''}}, {'userid': 'epa25', 'establish-communication': {'mark': 4, 'comment': 'missing commands'}, 'nfs-and-custom-login-message': {'mark': 12, 'comment': ''}, 'hello': {'mark': 48, 'comment': '[+5] | [+3] | [+5] | [+10] | [+5] | [+5] | [+10] | [+5]'}, 'good-quality-code': {'mark': 0.0, 'comment': ''}}, {'userid': 'ezt', 'establish-communication': {'mark': 4, 'comment': 'missing commands'}, 'nfs-and-custom-login-message': {'mark': 12, 'comment': ''}, 'hello': {'mark': 0, 'comment': 'Did not compile'}, 'good-quality-code': {'mark': 0.0, 'comment': ''}}, {'userid': 'hlebumfa', 'establish-communication': {'mark': 4, 'comment': 'missing commands'}, 'nfs-and-custom-login-message': {'mark': 12.0, 'comment': ''}, 'hello': {'mark': 18, 'comment': \"[+5] | [+3] | [+5] | Issues in User Response | Issues in Summary | Didn;t repeat | Didn't Exit | [+5]\"}, 'good-quality-code': {'mark': 0.0, 'comment': ''}}, {'userid': 'hssekhon', 'establish-communication': {'mark': 5, 'comment': 'Covers all/most'}, 'nfs-and-custom-login-message': {'mark': 12, 'comment': ''}, 'hello': {'mark': 13, 'comment': \"hello not in myApps | [+3] | [+5] | Issues in User Response | Issues in Summary | Didn;t repeat | Didn't Exit | [+5]\"}, 'good-quality-code': {'mark': 0.0, 'comment': ''}}, {'userid': 'jcz3', 'establish-communication': {'mark': 4.5, 'comment': 'missing command'}, 'nfs-and-custom-login-message': {'mark': 12, 'comment': ''}, 'hello': {'mark': 21, 'comment': \"[+5] | [+3] | [+5] | Issues in User Response [+3] [-7] | Issues in Summary | Didn;t repeat | Didn't Exit | [+5]\"}, 'good-quality-code': {'mark': 0.0, 'comment': ''}}, {'userid': 'jkshergi', 'establish-communication': {'mark': 5, 'comment': 'Covers all/most'}, 'nfs-and-custom-login-message': {'mark': 12, 'comment': ''}, 'hello': {'mark': 18, 'comment': \"[+5] | [+3] | [+5] | Issues in User Response | Issues in Summary | Didn;t repeat | Didn't Exit | [+5]\"}, 'good-quality-code': {'mark': 0.0, 'comment': ''}}, {'userid': 'jmateo', 'establish-communication': {'mark': 5, 'comment': 'Covers all/most'}, 'nfs-and-custom-login-message': {'mark': 12, 'comment': ''}, 'hello': {'mark': 43, 'comment': 'hello not in myApps | [+3] | [+5] | [+10] | [+5] | [+5] | [+10] | [+5]'}, 'good-quality-code': {'mark': 0.0, 'comment': ''}}, {'userid': 'jmerkl', 'establish-communication': {'mark': 5, 'comment': 'Covers all/most'}, 'nfs-and-custom-login-message': {'mark': 12, 'comment': ''}, 'hello': {'mark': 48, 'comment': '[+5] | [+3] | [+5] | [+10] | [+5] | [+5] | [+10] | [+5]'}, 'good-quality-code': {'mark': 0.0, 'comment': ''}}, {'userid': 'jmix', 'establish-communication': {'mark': 5, 'comment': 'Covers all/most'}, 'nfs-and-custom-login-message': {'mark': 12.0, 'comment': ''}, 'hello': {'mark': 18, 'comment': \"[+5] | [+3] | [+5] | Issues in User Response | Issues in Summary | Didn;t repeat | Didn't Exit | [+5]\"}, 'good-quality-code': {'mark': 0.0, 'comment': ''}}, {'userid': 'jml44', 'establish-communication': {'mark': 4.5, 'comment': 'missing command'}, 'nfs-and-custom-login-message': {'mark': 12.0, 'comment': ''}, 'hello': {'mark': 13, 'comment': \"[+5] | [+3] | LED0 didn't lightup | Issues in User Response | Issues in Summary | Didn;t repeat | Didn't Exit | [+5]\"}, 'good-quality-code': {'mark': 0.0, 'comment': ''}}, {'userid': 'jvanloo', 'establish-communication': {'mark': 0.0, 'comment': 'EXCEPTION | Empty file'}, 'nfs-and-custom-login-message': {'mark': 0.0, 'comment': 'EXCEPTION | EMPTY FILE'}, 'hello': {'mark': 13, 'comment': \"hello not in myApps | [+3] | [+5] | Issues in User Response | Issues in Summary | Didn;t repeat | Didn't Exit | [+5]\"}, 'good-quality-code': {'mark': 0.0, 'comment': ''}}, {'userid': 'kmokaya', 'establish-communication': {'mark': 5, 'comment': 'Covers all/most'}, 'nfs-and-custom-login-message': {'mark': 12.0, 'comment': ''}, 'hello': {'mark': 18, 'comment': \"[+5] | [+3] | [+5] | Issues in User Response | Issues in Summary | Didn;t repeat | Didn't Exit | [+5]\"}, 'good-quality-code': {'mark': 0.0, 'comment': ''}}, {'userid': 'ksa170', 'establish-communication': {'mark': 5, 'comment': 'Covers all/most'}, 'nfs-and-custom-login-message': {'mark': 12.5, 'comment': 'UPLOAD FILE WITH EXTENSION'}, 'hello': {'mark': 18, 'comment': \"[+5] | [+3] | [+5] | Issues in User Response | Issues in Summary | Didn;t repeat | Didn't Exit | [+5]\"}, 'good-quality-code': {'mark': 0.0, 'comment': ''}}, {'userid': 'ktoering', 'establish-communication': {'mark': 5, 'comment': 'Covers all/most'}, 'nfs-and-custom-login-message': {'mark': 12, 'comment': ''}, 'hello': {'mark': 13, 'comment': \"hello not in myApps | [+3] | [+5] | Issues in User Response | Issues in Summary | Didn;t repeat | Didn't Exit | [+5]\"}, 'good-quality-code': {'mark': 0.0, 'comment': ''}}, {'userid': 'liyuyul', 'establish-communication': {'mark': 4.5, 'comment': 'missing command'}, 'nfs-and-custom-login-message': {'mark': 12, 'comment': 'Good work'}, 'hello': {'mark': 0, 'comment': \"hello not in myApps | No welcome Message | LED0 didn't lightup | Issues in User Response | Issues in Summary | Didn;t repeat | Didn't Exit\"}, 'good-quality-code': {'mark': 0.0, 'comment': ''}}, {'userid': 'llagerwe', 'establish-communication': {'mark': 5, 'comment': 'Covers all/most'}, 'nfs-and-custom-login-message': {'mark': 12, 'comment': ''}, 'hello': {'mark': 18, 'comment': \"[+5] | [+3] | [+5] | Issues in User Response | Issues in Summary | Didn;t repeat | Didn't Exit | [+5]\"}, 'good-quality-code': {'mark': 0.0, 'comment': ''}}, {'userid': 'mmsaki', 'establish-communication': {'mark': 5, 'comment': 'Covers all/most'}, 'nfs-and-custom-login-message': {'mark': 0.0, 'comment': 'EXCEPTION | EMPTY'}, 'hello': {'mark': 0, 'comment': \"hello not in myApps | No welcome Message | LED0 didn't lightup | Issues in User Response | Issues in Summary | Didn;t repeat | Didn't Exit\"}, 'good-quality-code': {'mark': 0.0, 'comment': ''}}, {'userid': 'nss11', 'establish-communication': {'mark': 5, 'comment': 'Covers all/most'}, 'nfs-and-custom-login-message': {'mark': 4.0, 'comment': 'MISSING NFS | LS'}, 'hello': {'mark': 18, 'comment': \"[+5] | [+3] | [+5] | Issues in User Response | Issues in Summary | Didn;t repeat | Didn't Exit | [+5]\"}, 'good-quality-code': {'mark': 0.0, 'comment': ''}}, {'userid': 'rmakita', 'establish-communication': {'mark': 5, 'comment': 'Covers all/most'}, 'nfs-and-custom-login-message': {'mark': 12, 'comment': ''}, 'hello': {'mark': 48, 'comment': '[+5] | [+3] | [+5] | [+10] | [+5] | [+5] | [+10] | [+5]'}, 'good-quality-code': {'mark': 0.0, 'comment': ''}}, {'userid': 'smoradkh', 'establish-communication': {'mark': 5, 'comment': 'Covers all/most'}, 'nfs-and-custom-login-message': {'mark': 12, 'comment': ''}, 'hello': {'mark': 18, 'comment': \"[+5] | [+3] | [+5] | Issues in User Response | Issues in Summary | Didn;t repeat | Didn't Exit | [+5]\"}, 'good-quality-code': {'mark': 0.0, 'comment': ''}}, {'userid': 'sraisudd', 'establish-communication': {'mark': 4, 'comment': 'missing commands'}, 'nfs-and-custom-login-message': {'mark': 0.0, 'comment': 'EXCEPTION | SUSPICIOUS OUTPUT'}, 'hello': {'mark': 48, 'comment': '[+5] | [+3] | [+5] | [+10] | [+5] | [+5] | [+10] | [+5]'}, 'good-quality-code': {'mark': 0.0, 'comment': ''}}, {'userid': 'ssa365', 'establish-communication': {'mark': 5, 'comment': 'Covers all/most'}, 'nfs-and-custom-login-message': {'mark': 12, 'comment': ''}, 'hello': {'mark': 48, 'comment': '[+5] | [+3] | [+5] | [+10] | [+5] | [+5] | [+10] | [+5]'}, 'good-quality-code': {'mark': 0.0, 'comment': ''}}, {'userid': 'sukhal', 'establish-communication': {'mark': 4, 'comment': 'missing commands'}, 'nfs-and-custom-login-message': {'mark': 12, 'comment': ''}, 'hello': {'mark': 48, 'comment': '[+5] | [+3] | [+5] | [+10] | [+5] | [+5] | [+10] | [+5]'}, 'good-quality-code': {'mark': 0.0, 'comment': ''}}, {'userid': 'swa263', 'establish-communication': {'mark': 5.0, 'comment': 'EXCEPTION No File Extension | Check file extension from next time'}, 'nfs-and-custom-login-message': {'mark': 11.5, 'comment': 'EXCEPTION | FILE READING ERROR | PLEASE UPLOAD FILE IN TXT'}, 'hello': {'mark': 48, 'comment': '[+5] | [+3] | [+5] | [+10] | [+5] | [+5] | [+10] | [+5]'}, 'good-quality-code': {'mark': 0.0, 'comment': ''}}, {'userid': 'tla152', 'establish-communication': {'mark': 5, 'comment': 'Covers all/most'}, 'nfs-and-custom-login-message': {'mark': 12, 'comment': ''}, 'hello': {'mark': 38, 'comment': \"[+5] | [+3] | [+5] | [+10] | [+5] | [+5] | Didn't Exit | [+5]\"}, 'good-quality-code': {'mark': 0.0, 'comment': ''}}, {'userid': 'tpa35', 'establish-communication': {'mark': 4, 'comment': 'missing commands'}, 'nfs-and-custom-login-message': {'mark': 12, 'comment': ''}, 'hello': {'mark': 43, 'comment': 'hello not in myApps | [+3] | [+5] | [+10] | [+5] | [+5] | [+10] | [+5]'}, 'good-quality-code': {'mark': 0.0, 'comment': ''}}, {'userid': 'wshami', 'establish-communication': {'mark': 4, 'comment': 'missing commands'}, 'nfs-and-custom-login-message': {'mark': 0.0, 'comment': 'EXCEPTION | ERROS IN ALL THREE SECTION'}, 'hello': {'mark': 0, 'comment': \"hello not in myApps | No welcome Message | LED0 didn't lightup | Issues in User Response | Issues in Summary | Didn;t repeat | Didn't Exit\"}, 'good-quality-code': {'mark': 0.0, 'comment': ''}}, {'userid': 'zosmond', 'establish-communication': {'mark': 5, 'comment': 'Covers all/most'}, 'nfs-and-custom-login-message': {'mark': 12, 'comment': ''}, 'hello': {'mark': 18, 'comment': \"[+5] | [+3] | [+5] | Issues in User Response | Issues in Summary | Didn;t repeat | Didn't Exit | [+5]\"}, 'good-quality-code': {'mark': 0.0, 'comment': ''}}]}\n"
     ]
    }
   ],
   "source": [
    "import json\n",
    "from operator import le\n",
    " \n",
    "hello = \"hello.json\"\n",
    "establish_communication = \"establish-communication.json\"\n",
    "nfs = \"nfs-and-custom-login-message.json\"\n",
    "data_hello = None\n",
    "data_establish_communication = None\n",
    "data_nfs = None\n",
    "# Opening JSON file \n",
    "templateGrade = {\n",
    "      \"userid\": \"\",\n",
    "      \"establish-communication\": {\"mark\": 5.00, \"comment\": \"Covers all/most\"},\n",
    "      \"nfs-and-custom-login-message\": {\"mark\": 12.00, \"comment\": \"\"},\n",
    "      \"hello\": {\"mark\": 48.00, \"comment\": \"\"},\n",
    "      \"good-quality-code\": {\"mark\": 0.00, \"comment\": \"\"}\n",
    "}\n",
    "with open(establish_communication) as json_file:\n",
    "  data_establish_communication = json.load(json_file)\n",
    "  count = 0\n",
    "  print(\"{} : {}\".format(establish_communication,len(data_establish_communication['marks'])))\n",
    "  # for p,t in data_establish_communication['marks']:\n",
    "  #   print(p)\n",
    "with open(hello) as json_file:\n",
    "  data_hello = json.load(json_file)\n",
    "  count = 0\n",
    "  print(\"{} : {}\".format(hello,len(data_hello['marks'])))\n",
    "  # for p,t in data_hello['marks']:\n",
    "  #   print(p)\n",
    "  \n",
    "with open(nfs) as json_file:\n",
    "  data_nfs = json.load(json_file)\n",
    "  count = 0\n",
    "  print(\"{} : {}\".format(nfs,len(data_nfs['marks'])))\n",
    "  # for p,t in data_nfs['marks']:\n",
    "  #   print(p)\n",
    "\n",
    "finalGrades = {\"marks\" : []}\n",
    "for i in range(44):\n",
    "  temp = {\"userid\": \"\",\n",
    "      \"establish-communication\": {\"mark\": 5.00, \"comment\": \"Covers all/most\"},\n",
    "      \"nfs-and-custom-login-message\": {\"mark\": 12.00, \"comment\": \"\"},\n",
    "      \"hello\": {\"mark\": 48.00, \"comment\": \"\"},\n",
    "      \"good-quality-code\": {\"mark\": 0.00, \"comment\": \"\"}}\n",
    "  temp['userid'] = data_hello['marks'][i]['userid']\n",
    "  temp['hello'] = data_hello['marks'][i]['hello']\n",
    "  temp['nfs-and-custom-login-message'] = data_nfs['marks'][i]['nfs-and-custom-login-message']\n",
    "  temp['establish-communication'] = data_establish_communication['marks'][i]['establish-communication']\n",
    "  # print(temp)\n",
    "  finalGrades[\"marks\"].append(temp)\n",
    "print(finalGrades)\n",
    "with open(\"final_jenish.json\", \"w\") as outfile:\n",
    "  outfile.write(json.dumps(finalGrades,indent=4))\n",
    "\n"
   ]
  },
  {
   "cell_type": "code",
   "execution_count": 25,
   "metadata": {},
   "outputs": [
    {
     "data": {
      "text/plain": [
       "45"
      ]
     },
     "execution_count": 25,
     "metadata": {},
     "output_type": "execute_result"
    }
   ],
   "source": [
    "listOfSubmissions = \"akopylov,llagerwe,hlebumfa,sukhal,bla135,tla152,liyuyul,jml44,rmakita,asm18,cma107,jmateo,bmckeen,jmerkl,jmix,kmokaya,amontede,smoradkh,mmsaki,zosmond,epa25,tpa35,sraisudd,drashid,drowsell,dss17,hssekhon,wshami,divyams,jkshergi,nss11,ksa170,ssa365,alons,aspeers,athapa,ktoering,ezt,dumpherv,jvanloo,swa263,cwa230,cya110,ruoyiz,jcz3\"\n",
    "# sorted((listOfSubmissions.split(',')))\n",
    "len((listOfSubmissions.split(',')))"
   ]
  }
 ],
 "metadata": {
  "kernelspec": {
   "display_name": "Python 3.9.14 64-bit",
   "language": "python",
   "name": "python3"
  },
  "language_info": {
   "codemirror_mode": {
    "name": "ipython",
    "version": 3
   },
   "file_extension": ".py",
   "mimetype": "text/x-python",
   "name": "python",
   "nbconvert_exporter": "python",
   "pygments_lexer": "ipython3",
   "version": "3.9.14"
  },
  "orig_nbformat": 4,
  "vscode": {
   "interpreter": {
    "hash": "a665b5d41d17b532ea9890333293a1b812fa0b73c9c25c950b3cedf1bebd0438"
   }
  }
 },
 "nbformat": 4,
 "nbformat_minor": 2
}
