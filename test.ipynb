{
 "cells": [
  {
   "cell_type": "code",
   "execution_count": 6,
   "metadata": {},
   "outputs": [
    {
     "name": "stdout",
     "output_type": "stream",
     "text": [
      "/Users/atom/Documents/School/TA/ENSC351/a1\n",
      "x as1/\n",
      "x as1/Makefile\n",
      "x as1/hello\n",
      "x as1/hello.c\n",
      "x as1/as1-helloWorld.tar.gz\n",
      "\n",
      "/Users/atom/Documents/School/TA/ENSC351/a1/submissions/myGrading/aspeers/as1\n",
      "arm-linux-gnueabihf-gcc -Wall -g -std=c99 -D _POSIX_C_SOURCE=200809L hello.c -o hello\n",
      "make: arm-linux-gnueabihf-gcc: No such file or directory\n",
      "make: *** [all] Error 1\n",
      "\n",
      "/Users/atom/Documents/School/TA/ENSC351/a1\n"
     ]
    }
   ],
   "source": [
    "import subprocess\n",
    "import os\n",
    "\n",
    "currentDir = (os.getcwd())\n",
    "print(currentDir)\n",
    "\n",
    "os.chdir('./submissions/myGrading/aspeers')\n",
    "cmd = \"tar -xvf as1-helloWorld.tar.gz\"\n",
    "output = subprocess.Popen(cmd,shell=True, stdout=subprocess.PIPE,stderr=subprocess.STDOUT).stdout.read()\n",
    "extractedFolder = output.decode('utf-8').split()[1]\n",
    "print(output.decode('utf-8'))\n",
    "\n",
    "os.chdir(extractedFolder)\n",
    "print(os.getcwd())\n",
    "\n",
    "output = subprocess.Popen(\"make\",shell=True, stdout=subprocess.PIPE,stderr=subprocess.STDOUT).stdout.read()\n",
    "print(output.decode('utf-8'))\n",
    "\n",
    "os.chdir(currentDir)\n",
    "print(os.getcwd())"
   ]
  }
 ],
 "metadata": {
  "kernelspec": {
   "display_name": "Python 3.9.14 64-bit",
   "language": "python",
   "name": "python3"
  },
  "language_info": {
   "codemirror_mode": {
    "name": "ipython",
    "version": 3
   },
   "file_extension": ".py",
   "mimetype": "text/x-python",
   "name": "python",
   "nbconvert_exporter": "python",
   "pygments_lexer": "ipython3",
   "version": "3.9.14"
  },
  "orig_nbformat": 4,
  "vscode": {
   "interpreter": {
    "hash": "a665b5d41d17b532ea9890333293a1b812fa0b73c9c25c950b3cedf1bebd0438"
   }
  }
 },
 "nbformat": 4,
 "nbformat_minor": 2
}
