{
 "cells": [
  {
   "cell_type": "code",
   "execution_count": 6,
   "metadata": {},
   "outputs": [
    {
     "name": "stdout",
     "output_type": "stream",
     "text": [
      "/Users/atom/Documents/School/TA/ENSC351/a1\n",
      "x as1/\n",
      "x as1/Makefile\n",
      "x as1/hello\n",
      "x as1/hello.c\n",
      "x as1/as1-helloWorld.tar.gz\n",
      "\n",
      "/Users/atom/Documents/School/TA/ENSC351/a1/submissions/myGrading/aspeers/as1\n",
      "arm-linux-gnueabihf-gcc -Wall -g -std=c99 -D _POSIX_C_SOURCE=200809L hello.c -o hello\n",
      "make: arm-linux-gnueabihf-gcc: No such file or directory\n",
      "make: *** [all] Error 1\n",
      "\n",
      "/Users/atom/Documents/School/TA/ENSC351/a1\n"
     ]
    }
   ],
   "source": [
    "import subprocess\n",
    "import os\n",
    "\n",
    "currentDir = (os.getcwd())\n",
    "print(currentDir)\n",
    "\n",
    "os.chdir('./submissions/myGrading/aspeers')\n",
    "cmd = \"tar -xvf as1-helloWorld.tar.gz\"\n",
    "output = subprocess.Popen(cmd,shell=True, stdout=subprocess.PIPE,stderr=subprocess.STDOUT).stdout.read()\n",
    "extractedFolder = output.decode('utf-8').split()[1]\n",
    "print(output.decode('utf-8'))\n",
    "\n",
    "os.chdir(extractedFolder)\n",
    "print(os.getcwd())\n",
    "\n",
    "output = subprocess.Popen(\"make\",shell=True, stdout=subprocess.PIPE,stderr=subprocess.STDOUT).stdout.read()\n",
    "print(output.decode('utf-8'))\n",
    "\n",
    "os.chdir(currentDir)\n",
    "print(os.getcwd())"
   ]
  },
  {
   "cell_type": "code",
   "execution_count": 8,
   "metadata": {},
   "outputs": [],
   "source": [
    "import json\n",
    "\n",
    "\n",
    "a = {'marks': [{'userid': 'hlebumfa', 'hello': {'mark': 18, 'comment': \"[+5] | [+3] | [+5] | Issues in User Response | Issues in Summary | Didn;t repeat | Didn't Exit | [+5]\"}}, {'userid': 'hssekhon', 'hello': {'mark': 13, 'comment': \"hello not in myApps | [+3] | [+5] | Issues in User Response | Issues in Summary | Didn;t repeat | Didn't Exit | [+5]\"}}, {'userid': 'jcz3', 'hello': {'mark': 18, 'comment': \"[+5] | [+3] | [+5] | Issues in User Response | Issues in Summary | Didn;t repeat | Didn't Exit | [+5]\"}}, {'userid': 'jkshergi', 'hello': {'mark': 18, 'comment': \"[+5] | [+3] | [+5] | Issues in User Response | Issues in Summary | Didn;t repeat | Didn't Exit | [+5]\"}}, {'userid': 'jmateo', 'hello': {'mark': 43, 'comment': 'hello not in myApps | [+3] | [+5] | [+10] | [+5] | [+5] | [+10] | [+5]'}}, {'userid': 'jmerkl', 'hello': {'mark': 48, 'comment': '[+5] | [+3] | [+5] | [+10] | [+5] | [+5] | [+10] | [+5]'}}, {'userid': 'jmix', 'hello': {'mark': 18, 'comment': \"[+5] | [+3] | [+5] | Issues in User Response | Issues in Summary | Didn;t repeat | Didn't Exit | [+5]\"}}, {'userid': 'jml44', 'hello': {'mark': 13, 'comment': \"[+5] | [+3] | LED0 didn't lightup | Issues in User Response | Issues in Summary | Didn;t repeat | Didn't Exit | [+5]\"}}, {'userid': 'jvanloo', 'hello': {'mark': 13, 'comment': \"hello not in myApps | [+3] | [+5] | Issues in User Response | Issues in Summary | Didn;t repeat | Didn't Exit | [+5]\"}}, {'userid': 'kmokaya', 'hello': {'mark': 18, 'comment': \"[+5] | [+3] | [+5] | Issues in User Response | Issues in Summary | Didn;t repeat | Didn't Exit | [+5]\"}}, {'userid': 'ksa170', 'hello': {'mark': 18, 'comment': \"[+5] | [+3] | [+5] | Issues in User Response | Issues in Summary | Didn;t repeat | Didn't Exit | [+5]\"}}, {'userid': 'ktoering', 'hello': {'mark': 13, 'comment': \"hello not in myApps | [+3] | [+5] | Issues in User Response | Issues in Summary | Didn;t repeat | Didn't Exit | [+5]\"}}, {'userid': 'liyuyul', 'hello': {'mark': 5, 'comment': \"hello not in myApps | No welcome Message | LED0 didn't lightup | Issues in User Response | Issues in Summary | Didn;t repeat | Didn't Exit | [+5]\"}}, {'userid': 'llagerwe', 'hello': {'mark': 18, 'comment': \"[+5] | [+3] | [+5] | Issues in User Response | Issues in Summary | Didn;t repeat | Didn't Exit | [+5]\"}}, {'userid': 'mmsaki', 'hello': {'mark': 5, 'comment': \"hello not in myApps | No welcome Message | LED0 didn't lightup | Issues in User Response | Issues in Summary | Didn;t repeat | Didn't Exit | [+5]\"}}, {'userid': 'nss11', 'hello': {'mark': 18, 'comment': \"[+5] | [+3] | [+5] | Issues in User Response | Issues in Summary | Didn;t repeat | Didn't Exit | [+5]\"}}, {'userid': 'rmakita', 'hello': {'mark': 48, 'comment': '[+5] | [+3] | [+5] | [+10] | [+5] | [+5] | [+10] | [+5]'}}, {'userid': 'smoradkh', 'hello': {'mark': 18, 'comment': \"[+5] | [+3] | [+5] | Issues in User Response | Issues in Summary | Didn;t repeat | Didn't Exit | [+5]\"}}, {'userid': 'sraisudd', 'hello': {'mark': 48, 'comment': '[+5] | [+3] | [+5] | [+10] | [+5] | [+5] | [+10] | [+5]'}}, {'userid': 'ssa365', 'hello': {'mark': 48, 'comment': '[+5] | [+3] | [+5] | [+10] | [+5] | [+5] | [+10] | [+5]'}}, {'userid': 'sukhal', 'hello': {'mark': 48, 'comment': '[+5] | [+3] | [+5] | [+10] | [+5] | [+5] | [+10] | [+5]'}}, {'userid': 'swa263', 'hello': {'mark': 48, 'comment': '[+5] | [+3] | [+5] | [+10] | [+5] | [+5] | [+10] | [+5]'}}, {'userid': 'tla152', 'hello': {'mark': 38, 'comment': \"[+5] | [+3] | [+5] | [+10] | [+5] | [+5] | Didn't Exit | [+5]\"}}, {'userid': 'tpa35', 'hello': {'mark': 43, 'comment': 'hello not in myApps | [+3] | [+5] | [+10] | [+5] | [+5] | [+10] | [+5]'}}, {'userid': 'wshami', 'hello': {'mark': 5, 'comment': \"hello not in myApps | No welcome Message | LED0 didn't lightup | Issues in User Response | Issues in Summary | Didn;t repeat | Didn't Exit | [+5]\"}}, {'userid': 'zosmond', 'hello': {'mark': 18, 'comment': \"[+5] | [+3] | [+5] | Issues in User Response | Issues in Summary | Didn;t repeat | Didn't Exit | [+5]\"}}]}\n",
    "with open(\"hello2.json\", \"w\") as outfile:\n",
    "        outfile.write(json.dumps(a,indent=4))\n"
   ]
  },
  {
   "cell_type": "code",
   "execution_count": 14,
   "metadata": {},
   "outputs": [
    {
     "name": "stdout",
     "output_type": "stream",
     "text": [
      "establish-communication.json : 44\n",
      "hello.json : 44\n",
      "nfs-and-custom-login-message.json : 44\n",
      "{'marks': [{'userid': 'zosmond', 'establish-communication': {'mark': 5, 'comment': 'Covers all/most'}, 'nfs-and-custom-login-message': {'mark': 12, 'comment': ''}, 'hello': {'mark': 18, 'comment': \"[+5] | [+3] | [+5] | Issues in User Response | Issues in Summary | Didn;t repeat | Didn't Exit | [+5]\"}, 'good-quality-code': {'mark': 0.0, 'comment': ''}}, {'userid': 'zosmond', 'establish-communication': {'mark': 5, 'comment': 'Covers all/most'}, 'nfs-and-custom-login-message': {'mark': 12, 'comment': ''}, 'hello': {'mark': 18, 'comment': \"[+5] | [+3] | [+5] | Issues in User Response | Issues in Summary | Didn;t repeat | Didn't Exit | [+5]\"}, 'good-quality-code': {'mark': 0.0, 'comment': ''}}, {'userid': 'zosmond', 'establish-communication': {'mark': 5, 'comment': 'Covers all/most'}, 'nfs-and-custom-login-message': {'mark': 12, 'comment': ''}, 'hello': {'mark': 18, 'comment': \"[+5] | [+3] | [+5] | Issues in User Response | Issues in Summary | Didn;t repeat | Didn't Exit | [+5]\"}, 'good-quality-code': {'mark': 0.0, 'comment': ''}}, {'userid': 'zosmond', 'establish-communication': {'mark': 5, 'comment': 'Covers all/most'}, 'nfs-and-custom-login-message': {'mark': 12, 'comment': ''}, 'hello': {'mark': 18, 'comment': \"[+5] | [+3] | [+5] | Issues in User Response | Issues in Summary | Didn;t repeat | Didn't Exit | [+5]\"}, 'good-quality-code': {'mark': 0.0, 'comment': ''}}, {'userid': 'zosmond', 'establish-communication': {'mark': 5, 'comment': 'Covers all/most'}, 'nfs-and-custom-login-message': {'mark': 12, 'comment': ''}, 'hello': {'mark': 18, 'comment': \"[+5] | [+3] | [+5] | Issues in User Response | Issues in Summary | Didn;t repeat | Didn't Exit | [+5]\"}, 'good-quality-code': {'mark': 0.0, 'comment': ''}}, {'userid': 'zosmond', 'establish-communication': {'mark': 5, 'comment': 'Covers all/most'}, 'nfs-and-custom-login-message': {'mark': 12, 'comment': ''}, 'hello': {'mark': 18, 'comment': \"[+5] | [+3] | [+5] | Issues in User Response | Issues in Summary | Didn;t repeat | Didn't Exit | [+5]\"}, 'good-quality-code': {'mark': 0.0, 'comment': ''}}, {'userid': 'zosmond', 'establish-communication': {'mark': 5, 'comment': 'Covers all/most'}, 'nfs-and-custom-login-message': {'mark': 12, 'comment': ''}, 'hello': {'mark': 18, 'comment': \"[+5] | [+3] | [+5] | Issues in User Response | Issues in Summary | Didn;t repeat | Didn't Exit | [+5]\"}, 'good-quality-code': {'mark': 0.0, 'comment': ''}}, {'userid': 'zosmond', 'establish-communication': {'mark': 5, 'comment': 'Covers all/most'}, 'nfs-and-custom-login-message': {'mark': 12, 'comment': ''}, 'hello': {'mark': 18, 'comment': \"[+5] | [+3] | [+5] | Issues in User Response | Issues in Summary | Didn;t repeat | Didn't Exit | [+5]\"}, 'good-quality-code': {'mark': 0.0, 'comment': ''}}, {'userid': 'zosmond', 'establish-communication': {'mark': 5, 'comment': 'Covers all/most'}, 'nfs-and-custom-login-message': {'mark': 12, 'comment': ''}, 'hello': {'mark': 18, 'comment': \"[+5] | [+3] | [+5] | Issues in User Response | Issues in Summary | Didn;t repeat | Didn't Exit | [+5]\"}, 'good-quality-code': {'mark': 0.0, 'comment': ''}}, {'userid': 'zosmond', 'establish-communication': {'mark': 5, 'comment': 'Covers all/most'}, 'nfs-and-custom-login-message': {'mark': 12, 'comment': ''}, 'hello': {'mark': 18, 'comment': \"[+5] | [+3] | [+5] | Issues in User Response | Issues in Summary | Didn;t repeat | Didn't Exit | [+5]\"}, 'good-quality-code': {'mark': 0.0, 'comment': ''}}, {'userid': 'zosmond', 'establish-communication': {'mark': 5, 'comment': 'Covers all/most'}, 'nfs-and-custom-login-message': {'mark': 12, 'comment': ''}, 'hello': {'mark': 18, 'comment': \"[+5] | [+3] | [+5] | Issues in User Response | Issues in Summary | Didn;t repeat | Didn't Exit | [+5]\"}, 'good-quality-code': {'mark': 0.0, 'comment': ''}}, {'userid': 'zosmond', 'establish-communication': {'mark': 5, 'comment': 'Covers all/most'}, 'nfs-and-custom-login-message': {'mark': 12, 'comment': ''}, 'hello': {'mark': 18, 'comment': \"[+5] | [+3] | [+5] | Issues in User Response | Issues in Summary | Didn;t repeat | Didn't Exit | [+5]\"}, 'good-quality-code': {'mark': 0.0, 'comment': ''}}, {'userid': 'zosmond', 'establish-communication': {'mark': 5, 'comment': 'Covers all/most'}, 'nfs-and-custom-login-message': {'mark': 12, 'comment': ''}, 'hello': {'mark': 18, 'comment': \"[+5] | [+3] | [+5] | Issues in User Response | Issues in Summary | Didn;t repeat | Didn't Exit | [+5]\"}, 'good-quality-code': {'mark': 0.0, 'comment': ''}}, {'userid': 'zosmond', 'establish-communication': {'mark': 5, 'comment': 'Covers all/most'}, 'nfs-and-custom-login-message': {'mark': 12, 'comment': ''}, 'hello': {'mark': 18, 'comment': \"[+5] | [+3] | [+5] | Issues in User Response | Issues in Summary | Didn;t repeat | Didn't Exit | [+5]\"}, 'good-quality-code': {'mark': 0.0, 'comment': ''}}, {'userid': 'zosmond', 'establish-communication': {'mark': 5, 'comment': 'Covers all/most'}, 'nfs-and-custom-login-message': {'mark': 12, 'comment': ''}, 'hello': {'mark': 18, 'comment': \"[+5] | [+3] | [+5] | Issues in User Response | Issues in Summary | Didn;t repeat | Didn't Exit | [+5]\"}, 'good-quality-code': {'mark': 0.0, 'comment': ''}}, {'userid': 'zosmond', 'establish-communication': {'mark': 5, 'comment': 'Covers all/most'}, 'nfs-and-custom-login-message': {'mark': 12, 'comment': ''}, 'hello': {'mark': 18, 'comment': \"[+5] | [+3] | [+5] | Issues in User Response | Issues in Summary | Didn;t repeat | Didn't Exit | [+5]\"}, 'good-quality-code': {'mark': 0.0, 'comment': ''}}, {'userid': 'zosmond', 'establish-communication': {'mark': 5, 'comment': 'Covers all/most'}, 'nfs-and-custom-login-message': {'mark': 12, 'comment': ''}, 'hello': {'mark': 18, 'comment': \"[+5] | [+3] | [+5] | Issues in User Response | Issues in Summary | Didn;t repeat | Didn't Exit | [+5]\"}, 'good-quality-code': {'mark': 0.0, 'comment': ''}}, {'userid': 'zosmond', 'establish-communication': {'mark': 5, 'comment': 'Covers all/most'}, 'nfs-and-custom-login-message': {'mark': 12, 'comment': ''}, 'hello': {'mark': 18, 'comment': \"[+5] | [+3] | [+5] | Issues in User Response | Issues in Summary | Didn;t repeat | Didn't Exit | [+5]\"}, 'good-quality-code': {'mark': 0.0, 'comment': ''}}, {'userid': 'zosmond', 'establish-communication': {'mark': 5, 'comment': 'Covers all/most'}, 'nfs-and-custom-login-message': {'mark': 12, 'comment': ''}, 'hello': {'mark': 18, 'comment': \"[+5] | [+3] | [+5] | Issues in User Response | Issues in Summary | Didn;t repeat | Didn't Exit | [+5]\"}, 'good-quality-code': {'mark': 0.0, 'comment': ''}}, {'userid': 'zosmond', 'establish-communication': {'mark': 5, 'comment': 'Covers all/most'}, 'nfs-and-custom-login-message': {'mark': 12, 'comment': ''}, 'hello': {'mark': 18, 'comment': \"[+5] | [+3] | [+5] | Issues in User Response | Issues in Summary | Didn;t repeat | Didn't Exit | [+5]\"}, 'good-quality-code': {'mark': 0.0, 'comment': ''}}, {'userid': 'zosmond', 'establish-communication': {'mark': 5, 'comment': 'Covers all/most'}, 'nfs-and-custom-login-message': {'mark': 12, 'comment': ''}, 'hello': {'mark': 18, 'comment': \"[+5] | [+3] | [+5] | Issues in User Response | Issues in Summary | Didn;t repeat | Didn't Exit | [+5]\"}, 'good-quality-code': {'mark': 0.0, 'comment': ''}}, {'userid': 'zosmond', 'establish-communication': {'mark': 5, 'comment': 'Covers all/most'}, 'nfs-and-custom-login-message': {'mark': 12, 'comment': ''}, 'hello': {'mark': 18, 'comment': \"[+5] | [+3] | [+5] | Issues in User Response | Issues in Summary | Didn;t repeat | Didn't Exit | [+5]\"}, 'good-quality-code': {'mark': 0.0, 'comment': ''}}, {'userid': 'zosmond', 'establish-communication': {'mark': 5, 'comment': 'Covers all/most'}, 'nfs-and-custom-login-message': {'mark': 12, 'comment': ''}, 'hello': {'mark': 18, 'comment': \"[+5] | [+3] | [+5] | Issues in User Response | Issues in Summary | Didn;t repeat | Didn't Exit | [+5]\"}, 'good-quality-code': {'mark': 0.0, 'comment': ''}}, {'userid': 'zosmond', 'establish-communication': {'mark': 5, 'comment': 'Covers all/most'}, 'nfs-and-custom-login-message': {'mark': 12, 'comment': ''}, 'hello': {'mark': 18, 'comment': \"[+5] | [+3] | [+5] | Issues in User Response | Issues in Summary | Didn;t repeat | Didn't Exit | [+5]\"}, 'good-quality-code': {'mark': 0.0, 'comment': ''}}, {'userid': 'zosmond', 'establish-communication': {'mark': 5, 'comment': 'Covers all/most'}, 'nfs-and-custom-login-message': {'mark': 12, 'comment': ''}, 'hello': {'mark': 18, 'comment': \"[+5] | [+3] | [+5] | Issues in User Response | Issues in Summary | Didn;t repeat | Didn't Exit | [+5]\"}, 'good-quality-code': {'mark': 0.0, 'comment': ''}}, {'userid': 'zosmond', 'establish-communication': {'mark': 5, 'comment': 'Covers all/most'}, 'nfs-and-custom-login-message': {'mark': 12, 'comment': ''}, 'hello': {'mark': 18, 'comment': \"[+5] | [+3] | [+5] | Issues in User Response | Issues in Summary | Didn;t repeat | Didn't Exit | [+5]\"}, 'good-quality-code': {'mark': 0.0, 'comment': ''}}, {'userid': 'zosmond', 'establish-communication': {'mark': 5, 'comment': 'Covers all/most'}, 'nfs-and-custom-login-message': {'mark': 12, 'comment': ''}, 'hello': {'mark': 18, 'comment': \"[+5] | [+3] | [+5] | Issues in User Response | Issues in Summary | Didn;t repeat | Didn't Exit | [+5]\"}, 'good-quality-code': {'mark': 0.0, 'comment': ''}}, {'userid': 'zosmond', 'establish-communication': {'mark': 5, 'comment': 'Covers all/most'}, 'nfs-and-custom-login-message': {'mark': 12, 'comment': ''}, 'hello': {'mark': 18, 'comment': \"[+5] | [+3] | [+5] | Issues in User Response | Issues in Summary | Didn;t repeat | Didn't Exit | [+5]\"}, 'good-quality-code': {'mark': 0.0, 'comment': ''}}, {'userid': 'zosmond', 'establish-communication': {'mark': 5, 'comment': 'Covers all/most'}, 'nfs-and-custom-login-message': {'mark': 12, 'comment': ''}, 'hello': {'mark': 18, 'comment': \"[+5] | [+3] | [+5] | Issues in User Response | Issues in Summary | Didn;t repeat | Didn't Exit | [+5]\"}, 'good-quality-code': {'mark': 0.0, 'comment': ''}}, {'userid': 'zosmond', 'establish-communication': {'mark': 5, 'comment': 'Covers all/most'}, 'nfs-and-custom-login-message': {'mark': 12, 'comment': ''}, 'hello': {'mark': 18, 'comment': \"[+5] | [+3] | [+5] | Issues in User Response | Issues in Summary | Didn;t repeat | Didn't Exit | [+5]\"}, 'good-quality-code': {'mark': 0.0, 'comment': ''}}, {'userid': 'zosmond', 'establish-communication': {'mark': 5, 'comment': 'Covers all/most'}, 'nfs-and-custom-login-message': {'mark': 12, 'comment': ''}, 'hello': {'mark': 18, 'comment': \"[+5] | [+3] | [+5] | Issues in User Response | Issues in Summary | Didn;t repeat | Didn't Exit | [+5]\"}, 'good-quality-code': {'mark': 0.0, 'comment': ''}}, {'userid': 'zosmond', 'establish-communication': {'mark': 5, 'comment': 'Covers all/most'}, 'nfs-and-custom-login-message': {'mark': 12, 'comment': ''}, 'hello': {'mark': 18, 'comment': \"[+5] | [+3] | [+5] | Issues in User Response | Issues in Summary | Didn;t repeat | Didn't Exit | [+5]\"}, 'good-quality-code': {'mark': 0.0, 'comment': ''}}, {'userid': 'zosmond', 'establish-communication': {'mark': 5, 'comment': 'Covers all/most'}, 'nfs-and-custom-login-message': {'mark': 12, 'comment': ''}, 'hello': {'mark': 18, 'comment': \"[+5] | [+3] | [+5] | Issues in User Response | Issues in Summary | Didn;t repeat | Didn't Exit | [+5]\"}, 'good-quality-code': {'mark': 0.0, 'comment': ''}}, {'userid': 'zosmond', 'establish-communication': {'mark': 5, 'comment': 'Covers all/most'}, 'nfs-and-custom-login-message': {'mark': 12, 'comment': ''}, 'hello': {'mark': 18, 'comment': \"[+5] | [+3] | [+5] | Issues in User Response | Issues in Summary | Didn;t repeat | Didn't Exit | [+5]\"}, 'good-quality-code': {'mark': 0.0, 'comment': ''}}, {'userid': 'zosmond', 'establish-communication': {'mark': 5, 'comment': 'Covers all/most'}, 'nfs-and-custom-login-message': {'mark': 12, 'comment': ''}, 'hello': {'mark': 18, 'comment': \"[+5] | [+3] | [+5] | Issues in User Response | Issues in Summary | Didn;t repeat | Didn't Exit | [+5]\"}, 'good-quality-code': {'mark': 0.0, 'comment': ''}}, {'userid': 'zosmond', 'establish-communication': {'mark': 5, 'comment': 'Covers all/most'}, 'nfs-and-custom-login-message': {'mark': 12, 'comment': ''}, 'hello': {'mark': 18, 'comment': \"[+5] | [+3] | [+5] | Issues in User Response | Issues in Summary | Didn;t repeat | Didn't Exit | [+5]\"}, 'good-quality-code': {'mark': 0.0, 'comment': ''}}, {'userid': 'zosmond', 'establish-communication': {'mark': 5, 'comment': 'Covers all/most'}, 'nfs-and-custom-login-message': {'mark': 12, 'comment': ''}, 'hello': {'mark': 18, 'comment': \"[+5] | [+3] | [+5] | Issues in User Response | Issues in Summary | Didn;t repeat | Didn't Exit | [+5]\"}, 'good-quality-code': {'mark': 0.0, 'comment': ''}}, {'userid': 'zosmond', 'establish-communication': {'mark': 5, 'comment': 'Covers all/most'}, 'nfs-and-custom-login-message': {'mark': 12, 'comment': ''}, 'hello': {'mark': 18, 'comment': \"[+5] | [+3] | [+5] | Issues in User Response | Issues in Summary | Didn;t repeat | Didn't Exit | [+5]\"}, 'good-quality-code': {'mark': 0.0, 'comment': ''}}, {'userid': 'zosmond', 'establish-communication': {'mark': 5, 'comment': 'Covers all/most'}, 'nfs-and-custom-login-message': {'mark': 12, 'comment': ''}, 'hello': {'mark': 18, 'comment': \"[+5] | [+3] | [+5] | Issues in User Response | Issues in Summary | Didn;t repeat | Didn't Exit | [+5]\"}, 'good-quality-code': {'mark': 0.0, 'comment': ''}}, {'userid': 'zosmond', 'establish-communication': {'mark': 5, 'comment': 'Covers all/most'}, 'nfs-and-custom-login-message': {'mark': 12, 'comment': ''}, 'hello': {'mark': 18, 'comment': \"[+5] | [+3] | [+5] | Issues in User Response | Issues in Summary | Didn;t repeat | Didn't Exit | [+5]\"}, 'good-quality-code': {'mark': 0.0, 'comment': ''}}, {'userid': 'zosmond', 'establish-communication': {'mark': 5, 'comment': 'Covers all/most'}, 'nfs-and-custom-login-message': {'mark': 12, 'comment': ''}, 'hello': {'mark': 18, 'comment': \"[+5] | [+3] | [+5] | Issues in User Response | Issues in Summary | Didn;t repeat | Didn't Exit | [+5]\"}, 'good-quality-code': {'mark': 0.0, 'comment': ''}}, {'userid': 'zosmond', 'establish-communication': {'mark': 5, 'comment': 'Covers all/most'}, 'nfs-and-custom-login-message': {'mark': 12, 'comment': ''}, 'hello': {'mark': 18, 'comment': \"[+5] | [+3] | [+5] | Issues in User Response | Issues in Summary | Didn;t repeat | Didn't Exit | [+5]\"}, 'good-quality-code': {'mark': 0.0, 'comment': ''}}, {'userid': 'zosmond', 'establish-communication': {'mark': 5, 'comment': 'Covers all/most'}, 'nfs-and-custom-login-message': {'mark': 12, 'comment': ''}, 'hello': {'mark': 18, 'comment': \"[+5] | [+3] | [+5] | Issues in User Response | Issues in Summary | Didn;t repeat | Didn't Exit | [+5]\"}, 'good-quality-code': {'mark': 0.0, 'comment': ''}}, {'userid': 'zosmond', 'establish-communication': {'mark': 5, 'comment': 'Covers all/most'}, 'nfs-and-custom-login-message': {'mark': 12, 'comment': ''}, 'hello': {'mark': 18, 'comment': \"[+5] | [+3] | [+5] | Issues in User Response | Issues in Summary | Didn;t repeat | Didn't Exit | [+5]\"}, 'good-quality-code': {'mark': 0.0, 'comment': ''}}]}\n"
     ]
    }
   ],
   "source": [
    "import json\n",
    "from operator import le\n",
    " \n",
    "hello = \"hello.json\"\n",
    "establish_communication = \"establish-communication.json\"\n",
    "nfs = \"nfs-and-custom-login-message.json\"\n",
    "data_hello = None\n",
    "data_establish_communication = None\n",
    "data_nfs = None\n",
    "# Opening JSON file \n",
    "templateGrade = {\n",
    "      \"userid\": \"\",\n",
    "      \"establish-communication\": {\"mark\": 5.00, \"comment\": \"Covers all/most\"},\n",
    "      \"nfs-and-custom-login-message\": {\"mark\": 12.00, \"comment\": \"\"},\n",
    "      \"hello\": {\"mark\": 48.00, \"comment\": \"\"},\n",
    "      \"good-quality-code\": {\"mark\": 0.00, \"comment\": \"\"}\n",
    "}\n",
    "with open(establish_communication) as json_file:\n",
    "  data_establish_communication = json.load(json_file)\n",
    "  count = 0\n",
    "  print(\"{} : {}\".format(establish_communication,len(data_establish_communication['marks'])))\n",
    "  # for p,t in data_establish_communication['marks']:\n",
    "  #   print(p)\n",
    "with open(hello) as json_file:\n",
    "  data_hello = json.load(json_file)\n",
    "  count = 0\n",
    "  print(\"{} : {}\".format(hello,len(data_hello['marks'])))\n",
    "  # for p,t in data_hello['marks']:\n",
    "  #   print(p)\n",
    "  \n",
    "with open(nfs) as json_file:\n",
    "  data_nfs = json.load(json_file)\n",
    "  count = 0\n",
    "  print(\"{} : {}\".format(nfs,len(data_nfs['marks'])))\n",
    "  # for p,t in data_nfs['marks']:\n",
    "  #   print(p)\n",
    "\n",
    "finalGrades = {\"marks\" : []}\n",
    "for i in range(44):\n",
    "  temp = {\"userid\": \"\",\n",
    "      \"establish-communication\": {\"mark\": 5.00, \"comment\": \"Covers all/most\"},\n",
    "      \"nfs-and-custom-login-message\": {\"mark\": 12.00, \"comment\": \"\"},\n",
    "      \"hello\": {\"mark\": 48.00, \"comment\": \"\"},\n",
    "      \"good-quality-code\": {\"mark\": 0.00, \"comment\": \"\"}}\n",
    "  temp['userid'] = data_hello['marks'][i]['userid']\n",
    "  temp['hello'] = data_hello['marks'][i]['hello']\n",
    "  temp['nfs-and-custom-login-message'] = data_nfs['marks'][i]['nfs-and-custom-login-message']\n",
    "  temp['establish-communication'] = data_establish_communication['marks'][i]['establish-communication']\n",
    "  # print(temp)\n",
    "  finalGrades[\"marks\"].append(temp)\n",
    "print(finalGrades)\n",
    "with open(\"final_jenish.json\", \"w\") as outfile:\n",
    "  outfile.write(json.dumps(finalGrades,indent=4))\n",
    "\n"
   ]
  },
  {
   "cell_type": "code",
   "execution_count": 25,
   "metadata": {},
   "outputs": [
    {
     "data": {
      "text/plain": [
       "45"
      ]
     },
     "execution_count": 25,
     "metadata": {},
     "output_type": "execute_result"
    }
   ],
   "source": [
    "listOfSubmissions = \"akopylov,llagerwe,hlebumfa,sukhal,bla135,tla152,liyuyul,jml44,rmakita,asm18,cma107,jmateo,bmckeen,jmerkl,jmix,kmokaya,amontede,smoradkh,mmsaki,zosmond,epa25,tpa35,sraisudd,drashid,drowsell,dss17,hssekhon,wshami,divyams,jkshergi,nss11,ksa170,ssa365,alons,aspeers,athapa,ktoering,ezt,dumpherv,jvanloo,swa263,cwa230,cya110,ruoyiz,jcz3\"\n",
    "# sorted((listOfSubmissions.split(',')))\n",
    "len((listOfSubmissions.split(',')))"
   ]
  }
 ],
 "metadata": {
  "kernelspec": {
   "display_name": "Python 3.9.14 64-bit",
   "language": "python",
   "name": "python3"
  },
  "language_info": {
   "codemirror_mode": {
    "name": "ipython",
    "version": 3
   },
   "file_extension": ".py",
   "mimetype": "text/x-python",
   "name": "python",
   "nbconvert_exporter": "python",
   "pygments_lexer": "ipython3",
   "version": "3.9.14"
  },
  "orig_nbformat": 4,
  "vscode": {
   "interpreter": {
    "hash": "a665b5d41d17b532ea9890333293a1b812fa0b73c9c25c950b3cedf1bebd0438"
   }
  }
 },
 "nbformat": 4,
 "nbformat_minor": 2
}
