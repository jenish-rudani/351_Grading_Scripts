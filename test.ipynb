{
 "cells": [
  {
   "cell_type": "code",
   "execution_count": 6,
   "metadata": {},
   "outputs": [
    {
     "name": "stdout",
     "output_type": "stream",
     "text": [
      "/Users/atom/Documents/School/TA/ENSC351/a1\n",
      "x as1/\n",
      "x as1/Makefile\n",
      "x as1/hello\n",
      "x as1/hello.c\n",
      "x as1/as1-helloWorld.tar.gz\n",
      "\n",
      "/Users/atom/Documents/School/TA/ENSC351/a1/submissions/myGrading/aspeers/as1\n",
      "arm-linux-gnueabihf-gcc -Wall -g -std=c99 -D _POSIX_C_SOURCE=200809L hello.c -o hello\n",
      "make: arm-linux-gnueabihf-gcc: No such file or directory\n",
      "make: *** [all] Error 1\n",
      "\n",
      "/Users/atom/Documents/School/TA/ENSC351/a1\n"
     ]
    }
   ],
   "source": [
    "import subprocess\n",
    "import os\n",
    "\n",
    "currentDir = (os.getcwd())\n",
    "print(currentDir)\n",
    "\n",
    "os.chdir('./submissions/myGrading/aspeers')\n",
    "cmd = \"tar -xvf as1-helloWorld.tar.gz\"\n",
    "output = subprocess.Popen(cmd,shell=True, stdout=subprocess.PIPE,stderr=subprocess.STDOUT).stdout.read()\n",
    "extractedFolder = output.decode('utf-8').split()[1]\n",
    "print(output.decode('utf-8'))\n",
    "\n",
    "os.chdir(extractedFolder)\n",
    "print(os.getcwd())\n",
    "\n",
    "output = subprocess.Popen(\"make\",shell=True, stdout=subprocess.PIPE,stderr=subprocess.STDOUT).stdout.read()\n",
    "print(output.decode('utf-8'))\n",
    "\n",
    "os.chdir(currentDir)\n",
    "print(os.getcwd())"
   ]
  },
  {
   "cell_type": "code",
   "execution_count": 8,
   "metadata": {},
   "outputs": [],
   "source": [
    "import json\n",
    "\n",
    "\n",
    "a = {'marks': [{'userid': 'hlebumfa', 'hello': {'mark': 18, 'comment': \"[+5] | [+3] | [+5] | Issues in User Response | Issues in Summary | Didn;t repeat | Didn't Exit | [+5]\"}}, {'userid': 'hssekhon', 'hello': {'mark': 13, 'comment': \"hello not in myApps | [+3] | [+5] | Issues in User Response | Issues in Summary | Didn;t repeat | Didn't Exit | [+5]\"}}, {'userid': 'jcz3', 'hello': {'mark': 18, 'comment': \"[+5] | [+3] | [+5] | Issues in User Response | Issues in Summary | Didn;t repeat | Didn't Exit | [+5]\"}}, {'userid': 'jkshergi', 'hello': {'mark': 18, 'comment': \"[+5] | [+3] | [+5] | Issues in User Response | Issues in Summary | Didn;t repeat | Didn't Exit | [+5]\"}}, {'userid': 'jmateo', 'hello': {'mark': 43, 'comment': 'hello not in myApps | [+3] | [+5] | [+10] | [+5] | [+5] | [+10] | [+5]'}}, {'userid': 'jmerkl', 'hello': {'mark': 48, 'comment': '[+5] | [+3] | [+5] | [+10] | [+5] | [+5] | [+10] | [+5]'}}, {'userid': 'jmix', 'hello': {'mark': 18, 'comment': \"[+5] | [+3] | [+5] | Issues in User Response | Issues in Summary | Didn;t repeat | Didn't Exit | [+5]\"}}, {'userid': 'jml44', 'hello': {'mark': 13, 'comment': \"[+5] | [+3] | LED0 didn't lightup | Issues in User Response | Issues in Summary | Didn;t repeat | Didn't Exit | [+5]\"}}, {'userid': 'jvanloo', 'hello': {'mark': 13, 'comment': \"hello not in myApps | [+3] | [+5] | Issues in User Response | Issues in Summary | Didn;t repeat | Didn't Exit | [+5]\"}}, {'userid': 'kmokaya', 'hello': {'mark': 18, 'comment': \"[+5] | [+3] | [+5] | Issues in User Response | Issues in Summary | Didn;t repeat | Didn't Exit | [+5]\"}}, {'userid': 'ksa170', 'hello': {'mark': 18, 'comment': \"[+5] | [+3] | [+5] | Issues in User Response | Issues in Summary | Didn;t repeat | Didn't Exit | [+5]\"}}, {'userid': 'ktoering', 'hello': {'mark': 13, 'comment': \"hello not in myApps | [+3] | [+5] | Issues in User Response | Issues in Summary | Didn;t repeat | Didn't Exit | [+5]\"}}, {'userid': 'liyuyul', 'hello': {'mark': 5, 'comment': \"hello not in myApps | No welcome Message | LED0 didn't lightup | Issues in User Response | Issues in Summary | Didn;t repeat | Didn't Exit | [+5]\"}}, {'userid': 'llagerwe', 'hello': {'mark': 18, 'comment': \"[+5] | [+3] | [+5] | Issues in User Response | Issues in Summary | Didn;t repeat | Didn't Exit | [+5]\"}}, {'userid': 'mmsaki', 'hello': {'mark': 5, 'comment': \"hello not in myApps | No welcome Message | LED0 didn't lightup | Issues in User Response | Issues in Summary | Didn;t repeat | Didn't Exit | [+5]\"}}, {'userid': 'nss11', 'hello': {'mark': 18, 'comment': \"[+5] | [+3] | [+5] | Issues in User Response | Issues in Summary | Didn;t repeat | Didn't Exit | [+5]\"}}, {'userid': 'rmakita', 'hello': {'mark': 48, 'comment': '[+5] | [+3] | [+5] | [+10] | [+5] | [+5] | [+10] | [+5]'}}, {'userid': 'smoradkh', 'hello': {'mark': 18, 'comment': \"[+5] | [+3] | [+5] | Issues in User Response | Issues in Summary | Didn;t repeat | Didn't Exit | [+5]\"}}, {'userid': 'sraisudd', 'hello': {'mark': 48, 'comment': '[+5] | [+3] | [+5] | [+10] | [+5] | [+5] | [+10] | [+5]'}}, {'userid': 'ssa365', 'hello': {'mark': 48, 'comment': '[+5] | [+3] | [+5] | [+10] | [+5] | [+5] | [+10] | [+5]'}}, {'userid': 'sukhal', 'hello': {'mark': 48, 'comment': '[+5] | [+3] | [+5] | [+10] | [+5] | [+5] | [+10] | [+5]'}}, {'userid': 'swa263', 'hello': {'mark': 48, 'comment': '[+5] | [+3] | [+5] | [+10] | [+5] | [+5] | [+10] | [+5]'}}, {'userid': 'tla152', 'hello': {'mark': 38, 'comment': \"[+5] | [+3] | [+5] | [+10] | [+5] | [+5] | Didn't Exit | [+5]\"}}, {'userid': 'tpa35', 'hello': {'mark': 43, 'comment': 'hello not in myApps | [+3] | [+5] | [+10] | [+5] | [+5] | [+10] | [+5]'}}, {'userid': 'wshami', 'hello': {'mark': 5, 'comment': \"hello not in myApps | No welcome Message | LED0 didn't lightup | Issues in User Response | Issues in Summary | Didn;t repeat | Didn't Exit | [+5]\"}}, {'userid': 'zosmond', 'hello': {'mark': 18, 'comment': \"[+5] | [+3] | [+5] | Issues in User Response | Issues in Summary | Didn;t repeat | Didn't Exit | [+5]\"}}]}\n",
    "with open(\"hello2.json\", \"w\") as outfile:\n",
    "        outfile.write(json.dumps(a,indent=4))\n"
   ]
  },
  {
   "cell_type": "code",
   "execution_count": 2,
   "metadata": {},
   "outputs": [
    {
     "name": "stdout",
     "output_type": "stream",
     "text": [
      "43\n",
      "{'userid': 'akopylov', 'hello': {'mark': 48, 'comment': '[+5] | [+3] | [+5] | [+10] | [+5] | [+5] | [+10] | [+5]'}}\n",
      "{'userid': 'alons', 'hello': {'mark': 43, 'comment': 'hello not in myApps | [+3] | [+5] | [+10] | [+5] | [+5] | [+10] | [+5]'}}\n",
      "{'userid': 'amontede', 'hello': {'mark': 38, 'comment': \"[+5] | [+3] | [+5] | [+10] | [+5] | [+5] | Didn't Exit | [+5]\"}}\n",
      "{'userid': 'asm18', 'hello': {'mark': 48, 'comment': '[+5] | [+3] | [+5] | [+10] | [+5] | [+5] | [+10] | [+5]'}}\n",
      "{'userid': 'aspeers', 'hello': {'mark': 48, 'comment': '[+5] | [+3] | [+5] | [+10] | [+5] | [+5] | [+10] | [+5]'}}\n",
      "{'userid': 'athapa', 'hello': {'mark': 48, 'comment': '[+5] | [+3] | [+5] | [+10] | [+5] | [+5] | [+10] | [+5]'}}\n",
      "{'userid': 'bla135', 'hello': {'mark': 48, 'comment': '[+5] | [+3] | [+5] | [+10] | [+5] | [+5] | [+10] | [+5]'}}\n",
      "{'userid': 'bmckeen', 'hello': {'mark': 5, 'comment': \"hello not in myApps | No welcome Message | LED0 didn't lightup | Issues in User Response | Issues in Summary | Didn;t repeat | Didn't Exit | [+5]\"}}\n",
      "{'userid': 'cma107', 'hello': {'mark': 38, 'comment': \"[+5] | [+3] | [+5] | [+10] | [+5] | [+5] | Didn't Exit | [+5]\"}}\n",
      "{'userid': 'cwa230', 'hello': {'mark': 48, 'comment': '[+5] | [+3] | [+5] | [+10] | [+5] | [+5] | [+10] | [+5]'}}\n",
      "{'userid': 'cya110', 'hello': {'mark': 48, 'comment': '[+5] | [+3] | [+5] | [+10] | [+5] | [+5] | [+10] | [+5]'}}\n",
      "{'userid': 'divyams', 'hello': {'mark': 48, 'comment': '[+5] | [+3] | [+5] | [+10] | [+5] | [+5] | [+10] | [+5]'}}\n",
      "{'userid': 'drashid', 'hello': {'mark': 48, 'comment': '[+5] | [+3] | [+5] | [+10] | [+5] | [+5] | [+10] | [+5]'}}\n",
      "{'userid': 'drowsell', 'hello': {'mark': 48, 'comment': '[+5] | [+3] | [+5] | [+10] | [+5] | [+5] | [+10] | [+5]'}}\n",
      "{'userid': 'dss17', 'hello': {'mark': 48, 'comment': '[+5] | [+3] | [+5] | [+10] | [+5] | [+5] | [+10] | [+5]'}}\n",
      "{'userid': 'dumpherv', 'hello': {'mark': 38, 'comment': '[+5] | [+3] | [+5] | Issues in User Response | [+5] | [+5] | [+10] | [+5]'}}\n",
      "{'userid': 'epa25', 'hello': {'mark': 48, 'comment': '[+5] | [+3] | [+5] | [+10] | [+5] | [+5] | [+10] | [+5]'}}\n",
      "{'userid': 'hlebumfa', 'hello': {'mark': 18, 'comment': \"[+5] | [+3] | [+5] | Issues in User Response | Issues in Summary | Didn;t repeat | Didn't Exit | [+5]\"}}\n",
      "{'userid': 'hssekhon', 'hello': {'mark': 13, 'comment': \"hello not in myApps | [+3] | [+5] | Issues in User Response | Issues in Summary | Didn;t repeat | Didn't Exit | [+5]\"}}\n",
      "{'userid': 'jcz3', 'hello': {'mark': 18, 'comment': \"[+5] | [+3] | [+5] | Issues in User Response | Issues in Summary | Didn;t repeat | Didn't Exit | [+5]\"}}\n",
      "{'userid': 'jkshergi', 'hello': {'mark': 18, 'comment': \"[+5] | [+3] | [+5] | Issues in User Response | Issues in Summary | Didn;t repeat | Didn't Exit | [+5]\"}}\n",
      "{'userid': 'jmateo', 'hello': {'mark': 43, 'comment': 'hello not in myApps | [+3] | [+5] | [+10] | [+5] | [+5] | [+10] | [+5]'}}\n",
      "{'userid': 'jmerkl', 'hello': {'mark': 48, 'comment': '[+5] | [+3] | [+5] | [+10] | [+5] | [+5] | [+10] | [+5]'}}\n",
      "{'userid': 'jmix', 'hello': {'mark': 18, 'comment': \"[+5] | [+3] | [+5] | Issues in User Response | Issues in Summary | Didn;t repeat | Didn't Exit | [+5]\"}}\n",
      "{'userid': 'jml44', 'hello': {'mark': 13, 'comment': \"[+5] | [+3] | LED0 didn't lightup | Issues in User Response | Issues in Summary | Didn;t repeat | Didn't Exit | [+5]\"}}\n",
      "{'userid': 'jvanloo', 'hello': {'mark': 13, 'comment': \"hello not in myApps | [+3] | [+5] | Issues in User Response | Issues in Summary | Didn;t repeat | Didn't Exit | [+5]\"}}\n",
      "{'userid': 'kmokaya', 'hello': {'mark': 18, 'comment': \"[+5] | [+3] | [+5] | Issues in User Response | Issues in Summary | Didn;t repeat | Didn't Exit | [+5]\"}}\n",
      "{'userid': 'ksa170', 'hello': {'mark': 18, 'comment': \"[+5] | [+3] | [+5] | Issues in User Response | Issues in Summary | Didn;t repeat | Didn't Exit | [+5]\"}}\n",
      "{'userid': 'ktoering', 'hello': {'mark': 13, 'comment': \"hello not in myApps | [+3] | [+5] | Issues in User Response | Issues in Summary | Didn;t repeat | Didn't Exit | [+5]\"}}\n",
      "{'userid': 'liyuyul', 'hello': {'mark': 5, 'comment': \"hello not in myApps | No welcome Message | LED0 didn't lightup | Issues in User Response | Issues in Summary | Didn;t repeat | Didn't Exit | [+5]\"}}\n",
      "{'userid': 'llagerwe', 'hello': {'mark': 18, 'comment': \"[+5] | [+3] | [+5] | Issues in User Response | Issues in Summary | Didn;t repeat | Didn't Exit | [+5]\"}}\n",
      "{'userid': 'mmsaki', 'hello': {'mark': 5, 'comment': \"hello not in myApps | No welcome Message | LED0 didn't lightup | Issues in User Response | Issues in Summary | Didn;t repeat | Didn't Exit | [+5]\"}}\n",
      "{'userid': 'nss11', 'hello': {'mark': 18, 'comment': \"[+5] | [+3] | [+5] | Issues in User Response | Issues in Summary | Didn;t repeat | Didn't Exit | [+5]\"}}\n",
      "{'userid': 'rmakita', 'hello': {'mark': 48, 'comment': '[+5] | [+3] | [+5] | [+10] | [+5] | [+5] | [+10] | [+5]'}}\n",
      "{'userid': 'smoradkh', 'hello': {'mark': 18, 'comment': \"[+5] | [+3] | [+5] | Issues in User Response | Issues in Summary | Didn;t repeat | Didn't Exit | [+5]\"}}\n",
      "{'userid': 'sraisudd', 'hello': {'mark': 48, 'comment': '[+5] | [+3] | [+5] | [+10] | [+5] | [+5] | [+10] | [+5]'}}\n",
      "{'userid': 'ssa365', 'hello': {'mark': 48, 'comment': '[+5] | [+3] | [+5] | [+10] | [+5] | [+5] | [+10] | [+5]'}}\n",
      "{'userid': 'sukhal', 'hello': {'mark': 48, 'comment': '[+5] | [+3] | [+5] | [+10] | [+5] | [+5] | [+10] | [+5]'}}\n",
      "{'userid': 'swa263', 'hello': {'mark': 48, 'comment': '[+5] | [+3] | [+5] | [+10] | [+5] | [+5] | [+10] | [+5]'}}\n",
      "{'userid': 'tla152', 'hello': {'mark': 38, 'comment': \"[+5] | [+3] | [+5] | [+10] | [+5] | [+5] | Didn't Exit | [+5]\"}}\n",
      "{'userid': 'tpa35', 'hello': {'mark': 43, 'comment': 'hello not in myApps | [+3] | [+5] | [+10] | [+5] | [+5] | [+10] | [+5]'}}\n",
      "{'userid': 'wshami', 'hello': {'mark': 5, 'comment': \"hello not in myApps | No welcome Message | LED0 didn't lightup | Issues in User Response | Issues in Summary | Didn;t repeat | Didn't Exit | [+5]\"}}\n",
      "{'userid': 'zosmond', 'hello': {'mark': 18, 'comment': \"[+5] | [+3] | [+5] | Issues in User Response | Issues in Summary | Didn;t repeat | Didn't Exit | [+5]\"}}\n"
     ]
    }
   ],
   "source": [
    "import json\n",
    "from operator import le\n",
    " \n",
    "# Opening JSON file\n",
    "with open('hello.json') as json_file:\n",
    "  data = json.load(json_file)\n",
    "  count = 0\n",
    "  print(len(data['marks']))\n",
    "  for p in data['marks']:\n",
    "    print(p)"
   ]
  }
 ],
 "metadata": {
  "kernelspec": {
   "display_name": "Python 3.9.14 64-bit",
   "language": "python",
   "name": "python3"
  },
  "language_info": {
   "codemirror_mode": {
    "name": "ipython",
    "version": 3
   },
   "file_extension": ".py",
   "mimetype": "text/x-python",
   "name": "python",
   "nbconvert_exporter": "python",
   "pygments_lexer": "ipython3",
   "version": "3.9.14"
  },
  "orig_nbformat": 4,
  "vscode": {
   "interpreter": {
    "hash": "a665b5d41d17b532ea9890333293a1b812fa0b73c9c25c950b3cedf1bebd0438"
   }
  }
 },
 "nbformat": 4,
 "nbformat_minor": 2
}
